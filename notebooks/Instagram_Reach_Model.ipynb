{
 "cells": [
  {
   "cell_type": "markdown",
   "metadata": {},
   "source": [
    "# Instagram Reach Prediction Model\n",
    "## Predicting Post Reach Based on Engagement Metrics\n",
    "\n",
    "This notebook analyzes Instagram post data and builds a machine learning model to predict reach based on engagement metrics."
   ]
  },
  {
   "cell_type": "markdown",
   "metadata": {},
   "source": [
    "## 1. Import Libraries"
   ]
  },
  {
   "cell_type": "code",
   "execution_count": null,
   "metadata": {},
   "outputs": [],
   "source": [
    "import pandas as pd\n",
    "import numpy as np\n",
    "import matplotlib.pyplot as plt\n",
    "import seaborn as sns\n",
    "from sklearn.model_selection import train_test_split\n",
    "from sklearn.linear_model import LinearRegression\n",
    "from sklearn.ensemble import RandomForestRegressor\n",
    "from sklearn.metrics import mean_squared_error, r2_score, mean_absolute_error\n",
    "from sklearn.preprocessing import StandardScaler\n",
    "import warnings\n",
    "warnings.filterwarnings('ignore')\n",
    "\n",
    "# Set plot style\n",
    "plt.style.use('seaborn-v0_8-darkgrid')\n",
    "sns.set_palette('husl')"
   ]
  },
  {
   "cell_type": "markdown",
   "metadata": {},
   "source": [
    "## 2. Load and Explore Data"
   ]
  },
  {
   "cell_type": "code",
   "execution_count": null,
   "metadata": {},
   "outputs": [],
   "source": [
    "# Load the dataset\n",
    "df = pd.read_csv('../data/instagram_data.csv')\n",
    "\n",
    "# Display basic information\n",
    "print(\"Dataset Shape:\", df.shape)\n",
    "print(\"\\nFirst few rows:\")\n",
    "df.head()"
   ]
  },
  {
   "cell_type": "code",
   "execution_count": null,
   "metadata": {},
   "outputs": [],
   "source": [
    "# Check for missing values\n",
    "print(\"Missing Values:\")\n",
    "print(df.isnull().sum())\n",
    "\n",
    "# Basic statistics\n",
    "print(\"\\nBasic Statistics:\")\n",
    "df.describe()"
   ]
  },
  {
   "cell_type": "markdown",
   "metadata": {},
   "source": [
    "## 3. Data Cleaning"
   ]
  },
  {
   "cell_type": "code",
   "execution_count": null,
   "metadata": {},
   "outputs": [],
   "source": [
    "# Remove any duplicate rows\n",
    "df = df.drop_duplicates()\n",
    "\n",
    "# Handle missing values (if any)\n",
    "df = df.dropna()\n",
    "\n",
    "# Remove any negative values or outliers\n",
    "numeric_cols = ['Impressions', 'Likes', 'Comments', 'Shares', 'Saves', 'Reach']\n",
    "for col in numeric_cols:\n",
    "    df = df[df[col] >= 0]\n",
    "\n",
    "print(f\"Clean dataset shape: {df.shape}\")"
   ]
  },
  {
   "cell_type": "markdown",
   "metadata": {},
   "source": [
    "## 4. Feature Engineering"
   ]
  },
  {
   "cell_type": "code",
   "execution_count": null,
   "metadata": {},
   "outputs": [],
   "source": [
    "# Create engagement rate features\n",
    "df['Engagement_Rate'] = (df['Likes'] + df['Comments'] + df['Shares'] + df['Saves']) / df['Impressions']\n",
    "df['Like_Rate'] = df['Likes'] / df['Impressions']\n",
    "df['Comment_Rate'] = df['Comments'] / df['Impressions']\n",
    "df['Share_Rate'] = df['Shares'] / df['Impressions']\n",
    "df['Save_Rate'] = df['Saves'] / df['Impressions']\n",
    "\n",
    "# Total engagement\n",
    "df['Total_Engagement'] = df['Likes'] + df['Comments'] + df['Shares'] + df['Saves']\n",
    "\n",
    "# Reach rate\n",
    "df['Reach_Rate'] = df['Reach'] / df['Impressions']\n",
    "\n",
    "print(\"New features created:\")\n",
    "print(df[['Engagement_Rate', 'Total_Engagement', 'Reach_Rate']].head())"
   ]
  },
  {
   "cell_type": "markdown",
   "metadata": {},
   "source": [
    "## 5. Exploratory Data Analysis"
   ]
  },
  {
   "cell_type": "code",
   "execution_count": null,
   "metadata": {},
   "outputs": [],
   "source": [
    "# Correlation heatmap\n",
    "plt.figure(figsize=(12, 8))\n",
    "correlation_matrix = df[['Impressions', 'Likes', 'Comments', 'Shares', 'Saves', 'Reach', 'Total_Engagement']].corr()\n",
    "sns.heatmap(correlation_matrix, annot=True, cmap='coolwarm', center=0, fmt='.2f')\n",
    "plt.title('Correlation Matrix of Instagram Metrics')\n",
    "plt.tight_layout()\n",
    "plt.show()"
   ]
  },
  {
   "cell_type": "code",
   "execution_count": null,
   "metadata": {},
   "outputs": [],
   "source": [
    "# Distribution of Reach\n",
    "plt.figure(figsize=(10, 6))\n",
    "plt.hist(df['Reach'], bins=30, edgecolor='black', alpha=0.7)\n",
    "plt.xlabel('Reach')\n",
    "plt.ylabel('Frequency')\n",
    "plt.title('Distribution of Post Reach')\n",
    "plt.tight_layout()\n",
    "plt.show()"
   ]
  },
  {
   "cell_type": "code",
   "execution_count": null,
   "metadata": {},
   "outputs": [],
   "source": [
    "# Scatter plots of engagement metrics vs reach\n",
    "fig, axes = plt.subplots(2, 2, figsize=(14, 10))\n",
    "\n",
    "axes[0, 0].scatter(df['Likes'], df['Reach'], alpha=0.5)\n",
    "axes[0, 0].set_xlabel('Likes')\n",
    "axes[0, 0].set_ylabel('Reach')\n",
    "axes[0, 0].set_title('Likes vs Reach')\n",
    "\n",
    "axes[0, 1].scatter(df['Comments'], df['Reach'], alpha=0.5, color='orange')\n",
    "axes[0, 1].set_xlabel('Comments')\n",
    "axes[0, 1].set_ylabel('Reach')\n",
    "axes[0, 1].set_title('Comments vs Reach')\n",
    "\n",
    "axes[1, 0].scatter(df['Shares'], df['Reach'], alpha=0.5, color='green')\n",
    "axes[1, 0].set_xlabel('Shares')\n",
    "axes[1, 0].set_ylabel('Reach')\n",
    "axes[1, 0].set_title('Shares vs Reach')\n",
    "\n",
    "axes[1, 1].scatter(df['Saves'], df['Reach'], alpha=0.5, color='red')\n",
    "axes[1, 1].set_xlabel('Saves')\n",
    "axes[1, 1].set_ylabel('Reach')\n",
    "axes[1, 1].set_title('Saves vs Reach')\n",
    "\n",
    "plt.tight_layout()\n",
    "plt.show()"
   ]
  },
  {
   "cell_type": "markdown",
   "metadata": {},
   "source": [
    "## 6. Model Training"
   ]
  },
  {
   "cell_type": "code",
   "execution_count": null,
   "metadata": {},
   "outputs": [],
   "source": [
    "# Select features for modeling\n",
    "features = ['Impressions', 'Likes', 'Comments', 'Shares', 'Saves', \n",
    "            'Engagement_Rate', 'Total_Engagement']\n",
    "target = 'Reach'\n",
    "\n",
    "X = df[features]\n",
    "y = df[target]\n",
    "\n",
    "# Split data\n",
    "X_train, X_test, y_train, y_test = train_test_split(X, y, test_size=0.2, random_state=42)\n",
    "\n",
    "print(f\"Training set size: {X_train.shape[0]}\")\n",
    "print(f\"Test set size: {X_test.shape[0]}\")"
   ]
  },
  {
   "cell_type": "code",
   "execution_count": null,
   "metadata": {},
   "outputs": [],
   "source": [
    "# Scale features\n",
    "scaler = StandardScaler()\n",
    "X_train_scaled = scaler.fit_transform(X_train)\n",
    "X_test_scaled = scaler.transform(X_test)"
   ]
  },
  {
   "cell_type": "code",
   "execution_count": null,
   "metadata": {},
   "outputs": [],
   "source": [
    "# Train Linear Regression Model\n",
    "lr_model = LinearRegression()\n",
    "lr_model.fit(X_train_scaled, y_train)\n",
    "\n",
    "# Predictions\n",
    "y_pred_lr = lr_model.predict(X_test_scaled)\n",
    "\n",
    "# Evaluate\n",
    "print(\"Linear Regression Performance:\")\n",
    "print(f\"R² Score: {r2_score(y_test, y_pred_lr):.4f}\")\n",
    "print(f\"RMSE: {np.sqrt(mean_squared_error(y_test, y_pred_lr)):.2f}\")\n",
    "print(f\"MAE: {mean_absolute_error(y_test, y_pred_lr):.2f}\")"
   ]
  },
  {
   "cell_type": "code",
   "execution_count": null,
   "metadata": {},
   "outputs": [],
   "source": [
    "# Train Random Forest Model\n",
    "rf_model = RandomForestRegressor(n_estimators=100, random_state=42, max_depth=10)\n",
    "rf_model.fit(X_train, y_train)\n",
    "\n",
    "# Predictions\n",
    "y_pred_rf = rf_model.predict(X_test)\n",
    "\n",
    "# Evaluate\n",
    "print(\"\\nRandom Forest Performance:\")\n",
    "print(f\"R² Score: {r2_score(y_test, y_pred_rf):.4f}\")\n",
    "print(f\"RMSE: {np.sqrt(mean_squared_error(y_test, y_pred_rf)):.2f}\")\n",
    "print(f\"MAE: {mean_absolute_error(y_test, y_pred_rf):.2f}\")"
   ]
  },
  {
   "cell_type": "markdown",
   "metadata": {},
   "source": [
    "## 7. Feature Importance"
   ]
  },
  {
   "cell_type": "code",
   "execution_count": null,
   "metadata": {},
   "outputs": [],
   "source": [
    "# Feature importance from Random Forest\n",
    "feature_importance = pd.DataFrame({\n",
    "    'Feature': features,\n",
    "    'Importance': rf_model.feature_importances_\n",
    "}).sort_values('Importance', ascending=False)\n",
    "\n",
    "plt.figure(figsize=(10, 6))\n",
    "plt.barh(feature_importance['Feature'], feature_importance['Importance'])\n",
    "plt.xlabel('Importance')\n",
    "plt.title('Feature Importance for Reach Prediction')\n",
    "plt.tight_layout()\n",
    "plt.show()\n",
    "\n",
    "print(\"\\nFeature Importance:\")\n",
    "print(feature_importance)"
   ]
  },
  {
   "cell_type": "markdown",
   "metadata": {},
   "source": [
    "## 8. Model Evaluation Visualizations"
   ]
  },
  {
   "cell_type": "code",
   "execution_count": null,
   "metadata": {},
   "outputs": [],
   "source": [
    "# Predicted vs Actual - Linear Regression\n",
    "plt.figure(figsize=(12, 5))\n",
    "\n",
    "plt.subplot(1, 2, 1)\n",
    "plt.scatter(y_test, y_pred_lr, alpha=0.6)\n",
    "plt.plot([y_test.min(), y_test.max()], [y_test.min(), y_test.max()], 'r--', lw=2)\n",
    "plt.xlabel('Actual Reach')\n",
    "plt.ylabel('Predicted Reach')\n",
    "plt.title(f'Linear Regression: Predicted vs Actual\\nR² = {r2_score(y_test, y_pred_lr):.4f}')\n",
    "\n",
    "plt.subplot(1, 2, 2)\n",
    "plt.scatter(y_test, y_pred_rf, alpha=0.6, color='green')\n",
    "plt.plot([y_test.min(), y_test.max()], [y_test.min(), y_test.max()], 'r--', lw=2)\n",
    "plt.xlabel('Actual Reach')\n",
    "plt.ylabel('Predicted Reach')\n",
    "plt.title(f'Random Forest: Predicted vs Actual\\nR² = {r2_score(y_test, y_pred_rf):.4f}')\n",
    "\n",
    "plt.tight_layout()\n",
    "plt.show()"
   ]
  },
  {
   "cell_type": "code",
   "execution_count": null,
   "metadata": {},
   "outputs": [],
   "source": [
    "# Comparison bar chart for first 20 predictions\n",
    "comparison_df = pd.DataFrame({\n",
    "    'Actual': y_test.values[:20],\n",
    "    'Predicted (RF)': y_pred_rf[:20]\n",
    "}, index=range(20))\n",
    "\n",
    "plt.figure(figsize=(14, 6))\n",
    "x = np.arange(len(comparison_df))\n",
    "width = 0.35\n",
    "\n",
    "plt.bar(x - width/2, comparison_df['Actual'], width, label='Actual Reach', alpha=0.8)\n",
    "plt.bar(x + width/2, comparison_df['Predicted (RF)'], width, label='Predicted Reach', alpha=0.8)\n",
    "\n",
    "plt.xlabel('Post Index')\n",
    "plt.ylabel('Reach')\n",
    "plt.title('Actual vs Predicted Reach (First 20 Test Posts)')\n",
    "plt.legend()\n",
    "plt.tight_layout()\n",
    "plt.show()"
   ]
  },
  {
   "cell_type": "code",
   "execution_count": null,
   "metadata": {},
   "outputs": [],
   "source": [
    "# Residual plot\n",
    "residuals_rf = y_test - y_pred_rf\n",
    "\n",
    "plt.figure(figsize=(10, 6))\n",
    "plt.scatter(y_pred_rf, residuals_rf, alpha=0.6)\n",
    "plt.axhline(y=0, color='r', linestyle='--')\n",
    "plt.xlabel('Predicted Reach')\n",
    "plt.ylabel('Residuals')\n",
    "plt.title('Residual Plot - Random Forest Model')\n",
    "plt.tight_layout()\n",
    "plt.show()"
   ]
  },
  {
   "cell_type": "markdown",
   "metadata": {},
   "source": [
    "## 9. Model Comparison Summary"
   ]
  },
  {
   "cell_type": "code",
   "execution_count": null,
   "metadata": {},
   "outputs": [],
   "source": [
    "# Summary comparison\n",
    "comparison_summary = pd.DataFrame({\n",
    "    'Model': ['Linear Regression', 'Random Forest'],\n",
    "    'R² Score': [r2_score(y_test, y_pred_lr), r2_score(y_test, y_pred_rf)],\n",
    "    'RMSE': [np.sqrt(mean_squared_error(y_test, y_pred_lr)), \n",
    "             np.sqrt(mean_squared_error(y_test, y_pred_rf))],\n",
    "    'MAE': [mean_absolute_error(y_test, y_pred_lr), \n",
    "            mean_absolute_error(y_test, y_pred_rf)]\n",
    "})\n",
    "\n",
    "print(\"\\nModel Performance Comparison:\")\n",
    "print(comparison_summary.to_string(index=False))\n",
    "\n",
    "# Visualize comparison\n",
    "fig, axes = plt.subplots(1, 3, figsize=(15, 4))\n",
    "\n",
    "metrics = ['R² Score', 'RMSE', 'MAE']\n",
    "for idx, metric in enumerate(metrics):\n",
    "    axes[idx].bar(comparison_summary['Model'], comparison_summary[metric], alpha=0.7)\n",
    "    axes[idx].set_ylabel(metric)\n",
    "    axes[idx].set_title(f'{metric} Comparison')\n",
    "    axes[idx].tick_params(axis='x', rotation=45)\n",
    "\n",
    "plt.tight_layout()\n",
    "plt.show()"
   ]
  },
  {
   "cell_type": "markdown",
   "metadata": {},
   "source": [
    "## 10. Conclusions\n",
    "\n",
    "This notebook demonstrated:\n",
    "- Data cleaning and preprocessing of Instagram metrics\n",
    "- Feature engineering to create engagement rate metrics\n",
    "- Training and comparing Linear Regression and Random Forest models\n",
    "- Visualizing model performance and predictions\n",
    "\n",
    "Key findings:\n",
    "- The Random Forest model typically performs better for this type of data\n",
    "- Impressions and total engagement are strong predictors of reach\n",
    "- Engagement rates provide additional predictive power\n",
    "\n",
    "Next steps could include:\n",
    "- Testing additional models (XGBoost, Neural Networks)\n",
    "- Incorporating temporal features (time of day, day of week)\n",
    "- Adding content type features (image, video, carousel)\n",
    "- Hyperparameter tuning for better performance"
   ]
  }
 ],
 "metadata": {
  "kernelspec": {
   "display_name": "Python 3",
   "language": "python",
   "name": "python3"
  },
  "language_info": {
   "codemirror_mode": {
    "name": "ipython",
    "version": 3
   },
   "file_extension": ".py",
   "mimetype": "text/x-python",
   "name": "python",
   "nbconvert_exporter": "python",
   "pygments_lexer": "ipython3",
   "version": "3.8.0"
  }
 },
 "nbformat": 4,
 "nbformat_minor": 4
}
